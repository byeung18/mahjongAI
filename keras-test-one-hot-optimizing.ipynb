{
 "cells": [
  {
   "cell_type": "code",
   "execution_count": 1,
   "metadata": {},
   "outputs": [],
   "source": [
    "import tensorflow as tf\n",
    "import pandas as pd\n",
    "import numpy as np\n",
    "import h5py\n",
    "config = tf.compat.v1.ConfigProto()\n",
    "config.gpu_options.allow_growth = True\n",
    "session = tf.compat.v1.Session(config=config)"
   ]
  },
  {
   "cell_type": "code",
   "execution_count": 2,
   "metadata": {},
   "outputs": [
    {
     "data": {
      "text/plain": [
       "True"
      ]
     },
     "execution_count": 2,
     "metadata": {},
     "output_type": "execute_result"
    }
   ],
   "source": [
    "tf.test.is_gpu_available()"
   ]
  },
  {
   "cell_type": "code",
   "execution_count": 3,
   "metadata": {},
   "outputs": [],
   "source": [
    "numrows = 1000000\n",
    "data = pd.read_csv(\"onehot2018_100k.csv\", usecols=[i for i in range(1, 163)], dtype=int, chunksize=numrows)"
   ]
  },
  {
   "cell_type": "code",
   "execution_count": 4,
   "metadata": {},
   "outputs": [
    {
     "data": {
      "text/plain": [
       "<pandas.io.parsers.TextFileReader at 0x7fe9c363a160>"
      ]
     },
     "execution_count": 4,
     "metadata": {},
     "output_type": "execute_result"
    }
   ],
   "source": [
    "data"
   ]
  },
  {
   "cell_type": "code",
   "execution_count": 5,
   "metadata": {},
   "outputs": [],
   "source": [
    "from tensorflow.keras.models import Sequential\n",
    "from tensorflow.keras.layers import Dense, Activation, LSTM, Dropout, BatchNormalization\n",
    "from tensorflow.keras.optimizers import RMSprop, Adam, SGD\n",
    "from tensorflow.keras.regularizers import l1, l2"
   ]
  },
  {
   "cell_type": "code",
   "execution_count": 6,
   "metadata": {},
   "outputs": [],
   "source": [
    "from tensorflow.keras.preprocessing.sequence import TimeseriesGenerator"
   ]
  },
  {
   "cell_type": "code",
   "execution_count": 7,
   "metadata": {},
   "outputs": [
    {
     "name": "stdout",
     "output_type": "stream",
     "text": [
      "Model: \"sequential\"\n",
      "_________________________________________________________________\n",
      "Layer (type)                 Output Shape              Param #   \n",
      "=================================================================\n",
      "lstm (LSTM)                  (None, 512, 162)          210600    \n",
      "_________________________________________________________________\n",
      "lstm_1 (LSTM)                (None, 162)               210600    \n",
      "_________________________________________________________________\n",
      "dense (Dense)                (None, 512)               83456     \n",
      "_________________________________________________________________\n",
      "dense_1 (Dense)              (None, 256)               131328    \n",
      "_________________________________________________________________\n",
      "dense_2 (Dense)              (None, 256)               65792     \n",
      "_________________________________________________________________\n",
      "dense_3 (Dense)              (None, 162)               41634     \n",
      "=================================================================\n",
      "Total params: 743,410\n",
      "Trainable params: 743,410\n",
      "Non-trainable params: 0\n",
      "_________________________________________________________________\n"
     ]
    }
   ],
   "source": [
    "model = Sequential()\n",
    "# model.add(LSTM(162, activation='tanh', return_sequences=True, input_shape=(256, 162), kernel_regularizer = l2(0.001), activity_regularizer=l2(0.001)))\n",
    "# model.add(LSTM(162, activation='tanh', return_sequences=True, kernel_regularizer = l2(0.001), activity_regularizer=l2(0.001)))\n",
    "# model.add(LSTM(162, activation='tanh', kernel_regularizer = l2(0.001), activity_regularizer=l2(0.001)))\n",
    "\n",
    "model.add(LSTM(162, return_sequences=True, input_shape=(512, 162)))\n",
    "model.add(LSTM(162))\n",
    "model.add(Dense(512, activation='relu'))\n",
    "# model.add(BatchNormalization())\n",
    "model.add(Dense(256, activation='relu'))\n",
    "# model.add(Dropout(0.5))\n",
    "# model.add(BatchNormalization())\n",
    "model.add(Dense(256, activation='relu'))\n",
    "# model.add(Dropout(0.5))\n",
    "# model.add(BatchNormalization())\n",
    "model.add(Dense(162, activation='sigmoid'))\n",
    "\n",
    "opt = RMSprop(lr=5e-9, clipnorm=1.0)\n",
    "model.compile(loss='categorical_crossentropy',\n",
    "              optimizer=opt,\n",
    "              metrics=['accuracy'])\n",
    "\n",
    "model.summary()"
   ]
  },
  {
   "cell_type": "code",
   "execution_count": 8,
   "metadata": {},
   "outputs": [],
   "source": [
    "from tensorflow.keras.models import load_model\n",
    "model.load_weights(\"onehot2018_90k_weights.h5\")"
   ]
  },
  {
   "cell_type": "code",
   "execution_count": 9,
   "metadata": {},
   "outputs": [
    {
     "name": "stdout",
     "output_type": "stream",
     "text": [
      "Model: \"sequential\"\n",
      "_________________________________________________________________\n",
      "Layer (type)                 Output Shape              Param #   \n",
      "=================================================================\n",
      "lstm (LSTM)                  (None, 512, 162)          210600    \n",
      "_________________________________________________________________\n",
      "lstm_1 (LSTM)                (None, 162)               210600    \n",
      "_________________________________________________________________\n",
      "dense (Dense)                (None, 512)               83456     \n",
      "_________________________________________________________________\n",
      "dense_1 (Dense)              (None, 256)               131328    \n",
      "_________________________________________________________________\n",
      "dense_2 (Dense)              (None, 256)               65792     \n",
      "_________________________________________________________________\n",
      "dense_3 (Dense)              (None, 162)               41634     \n",
      "=================================================================\n",
      "Total params: 743,410\n",
      "Trainable params: 743,410\n",
      "Non-trainable params: 0\n",
      "_________________________________________________________________\n"
     ]
    }
   ],
   "source": [
    "model.summary()"
   ]
  },
  {
   "cell_type": "code",
   "execution_count": 10,
   "metadata": {},
   "outputs": [],
   "source": [
    "data = pd.read_csv(\"onehot2018_100k.csv\", usecols=[i for i in range(1, 163)], dtype=int, chunksize=numrows)"
   ]
  },
  {
   "cell_type": "code",
   "execution_count": 11,
   "metadata": {},
   "outputs": [
    {
     "name": "stderr",
     "output_type": "stream",
     "text": [
      "WARNING: Logging before flag parsing goes to stderr.\n",
      "W0624 23:47:38.162630 140644069254976 deprecation.py:323] From /home/brian/miniconda3/envs/tf2.0/lib/python3.6/site-packages/tensorflow/python/ops/math_grad.py:1250: add_dispatch_support.<locals>.wrapper (from tensorflow.python.ops.array_ops) is deprecated and will be removed in a future version.\n",
      "Instructions for updating:\n",
      "Use tf.where in 2.0, which has the same broadcast rule as np.where\n"
     ]
    },
    {
     "name": "stdout",
     "output_type": "stream",
     "text": [
      "62/62 [==============================] - 22s 347ms/step - loss: 69.5694 - accuracy: 0.3938\n",
      "62/62 [==============================] - 19s 313ms/step - loss: 53.3565 - accuracy: 0.3941\n",
      "62/62 [==============================] - 19s 306ms/step - loss: 16.6229 - accuracy: 0.3965\n",
      "62/62 [==============================] - 18s 294ms/step - loss: 45.1920 - accuracy: 0.3912\n",
      "62/62 [==============================] - 19s 304ms/step - loss: 73.6317 - accuracy: 0.3920\n",
      "62/62 [==============================] - 19s 305ms/step - loss: 47.2035 - accuracy: 0.3920\n",
      "62/62 [==============================] - 18s 294ms/step - loss: 53.2858 - accuracy: 0.3926\n",
      "62/62 [==============================] - 22s 354ms/step - loss: 73.6164 - accuracy: 0.3937\n",
      "62/62 [==============================] - 22s 351ms/step - loss: 51.3325 - accuracy: 0.3948\n",
      "62/62 [==============================] - 21s 346ms/step - loss: 49.2518 - accuracy: 0.3893\n",
      "62/62 [==============================] - 21s 346ms/step - loss: 47.2106 - accuracy: 0.3956\n",
      "62/62 [==============================] - 21s 344ms/step - loss: 47.2051 - accuracy: 0.3967\n",
      "17/17 [==============================] - 5s 307ms/step - loss: 32.0915 - accuracy: 0.3928\n"
     ]
    }
   ],
   "source": [
    "for chunk in data:\n",
    "    data_gen = TimeseriesGenerator(chunk[1:].values, chunk[:-1].values, length=512, stride=32, batch_size=512, shuffle=True)\n",
    "    history = model.fit_generator(data_gen, epochs=1, verbose=1)"
   ]
  },
  {
   "cell_type": "code",
   "execution_count": 12,
   "metadata": {},
   "outputs": [],
   "source": [
    "model.save(\"onehot2018_100k_better.h5\")"
   ]
  },
  {
   "cell_type": "code",
   "execution_count": 13,
   "metadata": {},
   "outputs": [],
   "source": [
    "model.save_weights(\"onehot2018_100k_weights.h5\")"
   ]
  },
  {
   "cell_type": "code",
   "execution_count": 12,
   "metadata": {},
   "outputs": [],
   "source": [
    "del model"
   ]
  },
  {
   "cell_type": "code",
   "execution_count": 17,
   "metadata": {},
   "outputs": [
    {
     "name": "stdout",
     "output_type": "stream",
     "text": [
      "Model: \"sequential_1\"\n",
      "_________________________________________________________________\n",
      "Layer (type)                 Output Shape              Param #   \n",
      "=================================================================\n",
      "lstm_2 (LSTM)                (None, 512, 162)          210600    \n",
      "_________________________________________________________________\n",
      "lstm_3 (LSTM)                (None, 162)               210600    \n",
      "_________________________________________________________________\n",
      "dense_4 (Dense)              (None, 512)               83456     \n",
      "_________________________________________________________________\n",
      "dense_5 (Dense)              (None, 256)               131328    \n",
      "_________________________________________________________________\n",
      "dense_6 (Dense)              (None, 256)               65792     \n",
      "_________________________________________________________________\n",
      "dense_7 (Dense)              (None, 162)               41634     \n",
      "=================================================================\n",
      "Total params: 743,410\n",
      "Trainable params: 743,410\n",
      "Non-trainable params: 0\n",
      "_________________________________________________________________\n"
     ]
    }
   ],
   "source": [
    "model = Sequential()\n",
    "# model.add(LSTM(162, activation='tanh', return_sequences=True, input_shape=(256, 162), kernel_regularizer = l2(0.001), activity_regularizer=l2(0.001)))\n",
    "# model.add(LSTM(162, activation='tanh', return_sequences=True, kernel_regularizer = l2(0.001), activity_regularizer=l2(0.001)))\n",
    "# model.add(LSTM(162, activation='tanh', kernel_regularizer = l2(0.001), activity_regularizer=l2(0.001)))\n",
    "\n",
    "model.add(LSTM(162, return_sequences=True, input_shape=(512, 162)))\n",
    "model.add(LSTM(162))\n",
    "model.add(Dense(512, activation='relu'))\n",
    "# model.add(BatchNormalization())\n",
    "model.add(Dense(256, activation='relu'))\n",
    "# model.add(Dropout(0.5))\n",
    "# model.add(BatchNormalization())\n",
    "model.add(Dense(256, activation='relu'))\n",
    "# model.add(Dropout(0.5))\n",
    "# model.add(BatchNormalization())\n",
    "model.add(Dense(162, activation='sigmoid'))\n",
    "\n",
    "opt = RMSprop(lr=0.00000005, clipnorm=1.0)\n",
    "model.compile(loss='categorical_crossentropy',\n",
    "              optimizer=opt,\n",
    "              metrics=['accuracy'])\n",
    "\n",
    "model.summary()"
   ]
  },
  {
   "cell_type": "code",
   "execution_count": 18,
   "metadata": {},
   "outputs": [],
   "source": [
    "model.load_weights(\"onehot2018_30k_weights.h5\")"
   ]
  },
  {
   "cell_type": "code",
   "execution_count": 19,
   "metadata": {},
   "outputs": [],
   "source": [
    "data = pd.read_csv(\"onehot2018_40k.csv\", usecols=[i for i in range(1, 163)], dtype=int, chunksize=numrows)"
   ]
  },
  {
   "cell_type": "code",
   "execution_count": null,
   "metadata": {},
   "outputs": [
    {
     "name": "stdout",
     "output_type": "stream",
     "text": [
      "Epoch 1/2\n",
      "489/489 [==============================] - 33s 67ms/step - loss: 51.8225 - accuracy: 0.3902\n",
      "Epoch 2/2\n",
      "489/489 [==============================] - 32s 65ms/step - loss: 54.0821 - accuracy: 0.3924\n",
      "Epoch 1/2\n",
      "489/489 [==============================] - 32s 66ms/step - loss: 56.0082 - accuracy: 0.3910\n",
      "Epoch 2/2\n",
      "489/489 [==============================] - 32s 66ms/step - loss: 68.4498 - accuracy: 0.3877 14s - loss: 59 - ETA: 12s - loss: 59.1820 - accuracy: 0.38 - ETA: 8s - loss: 64.2386 - accuracy: - ETA: 8s - loss: 63.0544 - accuracy: 0.387  - ETA: - ETA: 2s - loss: 67.5620 - accuracy:  - ETA: 2s \n",
      "Epoch 1/2\n",
      "489/489 [==============================] - 33s 67ms/step - loss: 64.3911 - accuracy: 0.3876\n",
      "Epoch 2/2\n",
      "489/489 [==============================] - 33s 67ms/step - loss: 60.2321 - accuracy: 0.3900 1s - loss: 60.1844 -\n",
      "Epoch 1/2\n",
      "489/489 [==============================] - 33s 67ms/step - loss: 41.6276 - accuracy: 0.3898\n",
      "Epoch 2/2\n",
      "489/489 [==============================] - 33s 67ms/step - loss: 52.0400 - accuracy: 0.3955\n",
      "Epoch 1/2\n",
      "327/489 [===================>..........] - ETA: 10s - loss: 42.5443 - accuracy: 0.3889 ETA: "
     ]
    }
   ],
   "source": [
    "for chunk in data:\n",
    "    data_gen = TimeseriesGenerator(chunk[1:].values, chunk[:-1].values, length=512, stride=32, batch_size=64, shuffle=True)\n",
    "    history = model.fit_generator(data_gen, epochs=2, verbose=1)"
   ]
  },
  {
   "cell_type": "code",
   "execution_count": null,
   "metadata": {},
   "outputs": [],
   "source": [
    "model.save(\"onehot2018_40k_better.h5\")"
   ]
  },
  {
   "cell_type": "markdown",
   "metadata": {},
   "source": []
  },
  {
   "cell_type": "code",
   "execution_count": null,
   "metadata": {},
   "outputs": [],
   "source": [
    "model.save_weights(\"onehot2018_40k_weights.h5\")"
   ]
  },
  {
   "cell_type": "markdown",
   "metadata": {},
   "source": []
  }
 ],
 "metadata": {
  "kernelspec": {
   "display_name": "Python 3",
   "language": "python",
   "name": "python3"
  },
  "language_info": {
   "codemirror_mode": {
    "name": "ipython",
    "version": 3
   },
   "file_extension": ".py",
   "mimetype": "text/x-python",
   "name": "python",
   "nbconvert_exporter": "python",
   "pygments_lexer": "ipython3",
   "version": "3.6.8"
  }
 },
 "nbformat": 4,
 "nbformat_minor": 2
}
